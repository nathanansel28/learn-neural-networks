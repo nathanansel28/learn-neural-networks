{
 "cells": [
  {
   "cell_type": "markdown",
   "id": "1d5ffe8b",
   "metadata": {
    "origin_pos": 1
   },
   "source": [
    "# Linear Regression Implementation from Scratch\n",
    ":label:`sec_linear_scratch`\n",
    "\n",
    "We are now ready to work through \n",
    "a fully functioning implementation \n",
    "of linear regression. \n",
    "In this section, \n",
    "(**we will implement the entire method from scratch,\n",
    "including (i) the model; (ii) the loss function;\n",
    "(iii) a minibatch stochastic gradient descent optimizer;\n",
    "and (iv) the training function \n",
    "that stitches all of these pieces together.**)\n",
    "Finally, we will run our synthetic data generator\n",
    "from :numref:`sec_synthetic-regression-data`\n",
    "and apply our model\n",
    "on the resulting dataset. \n",
    "While modern deep learning frameworks \n",
    "can automate nearly all of this work,\n",
    "implementing things from scratch is the only way\n",
    "to make sure that you really know what you are doing.\n",
    "Moreover, when it is time to customize models,\n",
    "defining our own layers or loss functions,\n",
    "understanding how things work under the hood will prove handy.\n",
    "In this section, we will rely only \n",
    "on tensors and automatic differentiation.\n",
    "Later, we will introduce a more concise implementation,\n",
    "taking advantage of the bells and whistles of deep learning frameworks \n",
    "while retaining the structure of what follows below.\n"
   ]
  },
  {
   "cell_type": "code",
   "execution_count": 6,
   "id": "61130865",
   "metadata": {
    "attributes": {
     "classes": [],
     "id": "",
     "n": "5"
    },
    "execution": {
     "iopub.execute_input": "2023-08-18T19:47:22.138625Z",
     "iopub.status.busy": "2023-08-18T19:47:22.138030Z",
     "iopub.status.idle": "2023-08-18T19:47:29.450081Z",
     "shell.execute_reply": "2023-08-18T19:47:29.448726Z"
    },
    "origin_pos": 5,
    "tab": [
     "jax"
    ]
   },
   "outputs": [],
   "source": [
    "%matplotlib inline\n",
    "import jax\n",
    "import optax\n",
    "from flax import linen as nn\n",
    "from jax import numpy as jnp\n",
    "from typing import Sequence, Any\n",
    "Shape = Sequence[int | Any]\n",
    "from d2l import jax as d2l"
   ]
  },
  {
   "cell_type": "markdown",
   "id": "ac33a122",
   "metadata": {
    "origin_pos": 6
   },
   "source": [
    "## Defining the Model\n",
    "\n",
    "[**Before we can begin optimizing our model's parameters**] by minibatch SGD,\n",
    "(**we need to have some parameters in the first place.**)\n",
    "In the following we initialize weights by drawing\n",
    "random numbers from a normal distribution with mean 0\n",
    "and a standard deviation of 0.01. \n",
    "The magic number 0.01 often works well in practice, \n",
    "but you can specify a different value \n",
    "through the argument `sigma`.\n",
    "Moreover we set the bias to 0.\n",
    "Note that for object-oriented design\n",
    "we add the code to the `__init__` method of a subclass of `d2l.Module` (introduced in :numref:`subsec_oo-design-models`).\n"
   ]
  },
  {
   "cell_type": "code",
   "execution_count": 7,
   "id": "8e6fb8ce",
   "metadata": {
    "attributes": {
     "classes": [],
     "id": "",
     "n": "7"
    },
    "execution": {
     "iopub.execute_input": "2023-08-18T19:47:29.627070Z",
     "iopub.status.busy": "2023-08-18T19:47:29.453294Z",
     "iopub.status.idle": "2023-08-18T19:47:29.632824Z",
     "shell.execute_reply": "2023-08-18T19:47:29.631985Z"
    },
    "origin_pos": 8,
    "tab": [
     "jax"
    ]
   },
   "outputs": [],
   "source": [
    "class LinearRegressionScratch(d2l.Module):  #@save\n",
    "    \"\"\"The linear regression model implemented from scratch.\"\"\"\n",
    "    num_inputs: int\n",
    "    lr: float\n",
    "    sigma: float = 0.01\n",
    "\n",
    "    def setup(self):\n",
    "        self.w = self.param('w', nn.initializers.normal(self.sigma),\n",
    "                            (self.num_inputs, 1))\n",
    "        self.b = self.param('b', nn.initializers.zeros, (1))"
   ]
  },
  {
   "cell_type": "markdown",
   "id": "9d3fdd93",
   "metadata": {
    "origin_pos": 9
   },
   "source": [
    "Next we must [**define our model,\n",
    "relating its input and parameters to its output.**]\n",
    "Using the same notation as :eqref:`eq_linreg-y-vec`\n",
    "for our linear model we simply take the matrix--vector product\n",
    "of the input features $\\mathbf{X}$ \n",
    "and the model weights $\\mathbf{w}$,\n",
    "and add the offset $b$ to each example.\n",
    "The product $\\mathbf{Xw}$ is a vector and $b$ is a scalar.\n",
    "Because of the broadcasting mechanism \n",
    "(see :numref:`subsec_broadcasting`),\n",
    "when we add a vector and a scalar,\n",
    "the scalar is added to each component of the vector.\n",
    "The resulting `forward` method \n",
    "is registered in the `LinearRegressionScratch` class\n",
    "via `add_to_class` (introduced in :numref:`oo-design-utilities`).\n"
   ]
  },
  {
   "cell_type": "code",
   "execution_count": 8,
   "id": "9a95580c",
   "metadata": {
    "attributes": {
     "classes": [],
     "id": "",
     "n": "8"
    },
    "execution": {
     "iopub.execute_input": "2023-08-18T19:47:29.636361Z",
     "iopub.status.busy": "2023-08-18T19:47:29.635707Z",
     "iopub.status.idle": "2023-08-18T19:47:29.639771Z",
     "shell.execute_reply": "2023-08-18T19:47:29.638958Z"
    },
    "origin_pos": 10,
    "tab": [
     "jax"
    ]
   },
   "outputs": [],
   "source": [
    "@d2l.add_to_class(LinearRegressionScratch)  #@save\n",
    "def forward(self, X):\n",
    "    return jnp.matmul(X, self.w) + self.b"
   ]
  },
  {
   "cell_type": "markdown",
   "id": "bbac5284",
   "metadata": {
    "origin_pos": 11
   },
   "source": [
    "## Defining the Loss Function\n",
    "\n",
    "Since [**updating our model requires taking\n",
    "the gradient of our loss function,**]\n",
    "we ought to (**define the loss function first.**)\n",
    "Here we use the squared loss function\n",
    "in :eqref:`eq_mse`.\n",
    "In the implementation, we need to transform the true value `y`\n",
    "into the predicted value's shape `y_hat`.\n",
    "The result returned by the following method\n",
    "will also have the same shape as `y_hat`. \n",
    "We also return the averaged loss value\n",
    "among all examples in the minibatch.\n"
   ]
  },
  {
   "cell_type": "code",
   "execution_count": 9,
   "id": "db025d37",
   "metadata": {
    "attributes": {
     "classes": [],
     "id": "",
     "n": "10"
    },
    "execution": {
     "iopub.execute_input": "2023-08-18T19:47:29.643111Z",
     "iopub.status.busy": "2023-08-18T19:47:29.642501Z",
     "iopub.status.idle": "2023-08-18T19:47:29.646955Z",
     "shell.execute_reply": "2023-08-18T19:47:29.646133Z"
    },
    "origin_pos": 13,
    "tab": [
     "jax"
    ]
   },
   "outputs": [],
   "source": [
    "@d2l.add_to_class(LinearRegressionScratch)  #@save\n",
    "def loss(self, params, X, y, state):\n",
    "    y_hat = state.apply_fn({'params': params}, *X)  # X unpacked from a tuple\n",
    "    l = (y_hat - y.reshape(y_hat.shape)) ** 2 / 2\n",
    "    return l.mean()"
   ]
  },
  {
   "cell_type": "markdown",
   "id": "72ea1619",
   "metadata": {
    "origin_pos": 14
   },
   "source": [
    "## Defining the Optimization Algorithm\n",
    "\n",
    "As discussed in :numref:`sec_linear_regression`,\n",
    "linear regression has a closed-form solution.\n",
    "However, our goal here is to illustrate \n",
    "how to train more general neural networks,\n",
    "and that requires that we teach you \n",
    "how to use minibatch SGD.\n",
    "Hence we will take this opportunity\n",
    "to introduce your first working example of SGD.\n",
    "At each step, using a minibatch \n",
    "randomly drawn from our dataset,\n",
    "we estimate the gradient of the loss\n",
    "with respect to the parameters.\n",
    "Next, we update the parameters\n",
    "in the direction that may reduce the loss.\n",
    "\n",
    "The following code applies the update, \n",
    "given a set of parameters, a learning rate `lr`.\n",
    "Since our loss is computed as an average over the minibatch, \n",
    "we do not need to adjust the learning rate against the batch size. \n",
    "In later chapters we will investigate \n",
    "how learning rates should be adjusted\n",
    "for very large minibatches as they arise \n",
    "in distributed large-scale learning.\n",
    "For now, we can ignore this dependency.\n"
   ]
  },
  {
   "cell_type": "code",
   "execution_count": null,
   "id": "61d9bf30",
   "metadata": {
    "attributes": {
     "classes": [],
     "id": "",
     "n": "13"
    },
    "execution": {
     "iopub.execute_input": "2023-08-18T19:47:29.650258Z",
     "iopub.status.busy": "2023-08-18T19:47:29.649644Z",
     "iopub.status.idle": "2023-08-18T19:47:29.655323Z",
     "shell.execute_reply": "2023-08-18T19:47:29.654512Z"
    },
    "origin_pos": 20,
    "tab": [
     "jax"
    ]
   },
   "outputs": [],
   "source": [
    "class SGD(d2l.HyperParameters):  #@save\n",
    "    \"\"\"Minibatch stochastic gradient descent.\"\"\"\n",
    "    # The key transformation of Optax is the GradientTransformation\n",
    "    # defined by two methods, the init and the update.\n",
    "    # The init initializes the state and the update transforms the gradients.\n",
    "    # https://github.com/deepmind/optax/blob/master/optax/_src/transform.py\n",
    "    def __init__(self, lr):\n",
    "        self.save_hyperparameters()\n",
    "\n",
    "    def init(self, params):\n",
    "        # Delete unused params\n",
    "        del params\n",
    "        return optax.EmptyState\n",
    "\n",
    "    def update(self, updates, state, params=None):\n",
    "        del params\n",
    "        # When state.apply_gradients method is called to update flax's\n",
    "        # train_state object, it internally calls optax.apply_updates method\n",
    "        # adding the params to the update equation defined below.\n",
    "        updates = jax.tree_util.tree_map(lambda g: -self.lr * g, updates)\n",
    "        return updates, state\n",
    "\n",
    "    def __call__():\n",
    "        return optax.GradientTransformation(self.init, self.update)"
   ]
  },
  {
   "cell_type": "markdown",
   "id": "8d760a21",
   "metadata": {
    "origin_pos": 21
   },
   "source": [
    "We next define the `configure_optimizers` method, which returns an instance of the `SGD` class.\n"
   ]
  },
  {
   "cell_type": "code",
   "execution_count": null,
   "id": "2d23d56a",
   "metadata": {
    "attributes": {
     "classes": [],
     "id": "",
     "n": "14"
    },
    "execution": {
     "iopub.execute_input": "2023-08-18T19:47:29.658580Z",
     "iopub.status.busy": "2023-08-18T19:47:29.657966Z",
     "iopub.status.idle": "2023-08-18T19:47:29.661835Z",
     "shell.execute_reply": "2023-08-18T19:47:29.661032Z"
    },
    "origin_pos": 22,
    "tab": [
     "jax"
    ]
   },
   "outputs": [],
   "source": [
    "@d2l.add_to_class(LinearRegressionScratch)  #@save\n",
    "def configure_optimizers(self):\n",
    "    return SGD(self.lr)"
   ]
  },
  {
   "cell_type": "markdown",
   "id": "e6025ab3",
   "metadata": {
    "origin_pos": 23
   },
   "source": [
    "## Training\n",
    "\n",
    "Now that we have all of the parts in place\n",
    "(parameters, loss function, model, and optimizer),\n",
    "we are ready to [**implement the main training loop.**]\n",
    "It is crucial that you understand this code fully\n",
    "since you will employ similar training loops\n",
    "for every other deep learning model\n",
    "covered in this book.\n",
    "In each *epoch*, we iterate through \n",
    "the entire training dataset, \n",
    "passing once through every example\n",
    "(assuming that the number of examples \n",
    "is divisible by the batch size). \n",
    "In each *iteration*, we grab a minibatch of training examples,\n",
    "and compute its loss through the model's `training_step` method. \n",
    "Then we compute the gradients with respect to each parameter. \n",
    "Finally, we will call the optimization algorithm\n",
    "to update the model parameters. \n",
    "In summary, we will execute the following loop:\n",
    "\n",
    "* Initialize parameters $(\\mathbf{w}, b)$\n",
    "* Repeat until done\n",
    "    * Compute gradient $\\mathbf{g} \\leftarrow \\partial_{(\\mathbf{w},b)} \\frac{1}{|\\mathcal{B}|} \\sum_{i \\in \\mathcal{B}} l(\\mathbf{x}^{(i)}, y^{(i)}, \\mathbf{w}, b)$\n",
    "    * Update parameters $(\\mathbf{w}, b) \\leftarrow (\\mathbf{w}, b) - \\eta \\mathbf{g}$\n",
    " \n",
    "Recall that the synthetic regression dataset \n",
    "that we generated in :numref:``sec_synthetic-regression-data`` \n",
    "does not provide a validation dataset. \n",
    "In most cases, however, \n",
    "we will want a validation dataset \n",
    "to measure our model quality. \n",
    "Here we pass the validation dataloader \n",
    "once in each epoch to measure the model performance.\n",
    "Following our object-oriented design,\n",
    "the `prepare_batch` and `fit_epoch` methods\n",
    "are registered in the `d2l.Trainer` class\n",
    "(introduced in :numref:`oo-design-training`).\n"
   ]
  },
  {
   "cell_type": "code",
   "execution_count": null,
   "id": "cd73244d",
   "metadata": {
    "attributes": {
     "classes": [],
     "id": "",
     "n": "15"
    },
    "execution": {
     "iopub.execute_input": "2023-08-18T19:47:29.664681Z",
     "iopub.status.busy": "2023-08-18T19:47:29.664419Z",
     "iopub.status.idle": "2023-08-18T19:47:29.668349Z",
     "shell.execute_reply": "2023-08-18T19:47:29.667497Z"
    },
    "origin_pos": 24,
    "tab": [
     "jax"
    ]
   },
   "outputs": [],
   "source": [
    "@d2l.add_to_class(d2l.Trainer)  #@save\n",
    "def prepare_batch(self, batch):\n",
    "    return batch"
   ]
  },
  {
   "cell_type": "code",
   "execution_count": null,
   "id": "940acfd8",
   "metadata": {
    "attributes": {
     "classes": [],
     "id": "",
     "n": "19"
    },
    "execution": {
     "iopub.execute_input": "2023-08-18T19:47:29.671731Z",
     "iopub.status.busy": "2023-08-18T19:47:29.671130Z",
     "iopub.status.idle": "2023-08-18T19:47:29.678721Z",
     "shell.execute_reply": "2023-08-18T19:47:29.677900Z"
    },
    "origin_pos": 28,
    "tab": [
     "jax"
    ]
   },
   "outputs": [],
   "source": [
    "@d2l.add_to_class(d2l.Trainer)  #@save\n",
    "def fit_epoch(self):\n",
    "    self.model.training = True\n",
    "    if self.state.batch_stats:\n",
    "        # Mutable states will be used later (e.g., for batch norm)\n",
    "        for batch in self.train_dataloader:\n",
    "            (_, mutated_vars), grads = self.model.training_step(self.state.params,\n",
    "                                                           self.prepare_batch(batch),\n",
    "                                                           self.state)\n",
    "            self.state = self.state.apply_gradients(grads=grads)\n",
    "            # Can be ignored for models without Dropout Layers\n",
    "            self.state = self.state.replace(\n",
    "                dropout_rng=jax.random.split(self.state.dropout_rng)[0])\n",
    "            self.state = self.state.replace(batch_stats=mutated_vars['batch_stats'])\n",
    "            self.train_batch_idx += 1\n",
    "    else:\n",
    "        for batch in self.train_dataloader:\n",
    "            _, grads = self.model.training_step(self.state.params,\n",
    "                                                self.prepare_batch(batch),\n",
    "                                                self.state)\n",
    "            self.state = self.state.apply_gradients(grads=grads)\n",
    "            # Can be ignored for models without Dropout Layers\n",
    "            self.state = self.state.replace(\n",
    "                dropout_rng=jax.random.split(self.state.dropout_rng)[0])\n",
    "            self.train_batch_idx += 1\n",
    "\n",
    "    if self.val_dataloader is None:\n",
    "        return\n",
    "    self.model.training = False\n",
    "    for batch in self.val_dataloader:\n",
    "        self.model.validation_step(self.state.params,\n",
    "                                   self.prepare_batch(batch),\n",
    "                                   self.state)\n",
    "        self.val_batch_idx += 1"
   ]
  },
  {
   "cell_type": "markdown",
   "id": "ebd2bc2d",
   "metadata": {
    "origin_pos": 29
   },
   "source": [
    "We are almost ready to train the model,\n",
    "but first we need some training data.\n",
    "Here we use the `SyntheticRegressionData` class \n",
    "and pass in some ground truth parameters.\n",
    "Then we train our model with \n",
    "the learning rate `lr=0.03` \n",
    "and set `max_epochs=3`. \n",
    "Note that in general, both the number of epochs \n",
    "and the learning rate are hyperparameters.\n",
    "In general, setting hyperparameters is tricky\n",
    "and we will usually want to use a three-way split,\n",
    "one set for training, \n",
    "a second for hyperparameter selection,\n",
    "and the third reserved for the final evaluation.\n",
    "We elide these details for now but will revise them\n",
    "later.\n"
   ]
  },
  {
   "cell_type": "code",
   "execution_count": null,
   "id": "7f7fe5ab",
   "metadata": {
    "attributes": {
     "classes": [],
     "id": "",
     "n": "20"
    },
    "execution": {
     "iopub.execute_input": "2023-08-18T19:47:29.681953Z",
     "iopub.status.busy": "2023-08-18T19:47:29.681407Z",
     "iopub.status.idle": "2023-08-18T19:47:37.631360Z",
     "shell.execute_reply": "2023-08-18T19:47:37.630241Z"
    },
    "origin_pos": 30,
    "tab": [
     "jax"
    ]
   },
   "outputs": [],
   "source": [
    "model = LinearRegressionScratch(2, lr=0.03)\n",
    "data = d2l.SyntheticRegressionData(w=jnp.array([2, -3.4]), b=4.2)\n",
    "trainer = d2l.Trainer(max_epochs=3)\n",
    "trainer.fit(model, data)"
   ]
  },
  {
   "cell_type": "markdown",
   "id": "5dc02266",
   "metadata": {
    "origin_pos": 31
   },
   "source": [
    "Because we synthesized the dataset ourselves,\n",
    "we know precisely what the true parameters are.\n",
    "Thus, we can [**evaluate our success in training\n",
    "by comparing the true parameters\n",
    "with those that we learned**] through our training loop.\n",
    "Indeed they turn out to be very close to each other.\n"
   ]
  },
  {
   "cell_type": "code",
   "execution_count": null,
   "id": "6e52e3d4",
   "metadata": {
    "attributes": {
     "classes": [],
     "id": "",
     "n": "23"
    },
    "execution": {
     "iopub.execute_input": "2023-08-18T19:47:37.635249Z",
     "iopub.status.busy": "2023-08-18T19:47:37.634682Z",
     "iopub.status.idle": "2023-08-18T19:47:37.681593Z",
     "shell.execute_reply": "2023-08-18T19:47:37.680415Z"
    },
    "origin_pos": 34,
    "tab": [
     "jax"
    ]
   },
   "outputs": [],
   "source": [
    "params = trainer.state.params\n",
    "print(f\"error in estimating w: {data.w - params['w'].reshape(data.w.shape)}\")\n",
    "print(f\"error in estimating b: {data.b - params['b']}\")"
   ]
  },
  {
   "cell_type": "markdown",
   "id": "5c7a26c4",
   "metadata": {
    "origin_pos": 35
   },
   "source": [
    "We should not take the ability to exactly recover \n",
    "the ground truth parameters for granted.\n",
    "In general, for deep models unique solutions\n",
    "for the parameters do not exist,\n",
    "and even for linear models,\n",
    "exactly recovering the parameters\n",
    "is only possible when no feature \n",
    "is linearly dependent on the others.\n",
    "However, in machine learning, \n",
    "we are often less concerned\n",
    "with recovering true underlying parameters,\n",
    "but rather with parameters \n",
    "that lead to highly accurate prediction :cite:`Vapnik.1992`.\n",
    "Fortunately, even on difficult optimization problems,\n",
    "stochastic gradient descent can often find remarkably good solutions,\n",
    "owing partly to the fact that, for deep networks,\n",
    "there exist many configurations of the parameters\n",
    "that lead to highly accurate prediction.\n",
    "\n",
    "\n",
    "## Summary\n",
    "\n",
    "In this section, we took a significant step \n",
    "towards designing deep learning systems \n",
    "by implementing a fully functional \n",
    "neural network model and training loop.\n",
    "In this process, we built a data loader, \n",
    "a model, a loss function, an optimization procedure,\n",
    "and a visualization and monitoring tool. \n",
    "We did this by composing a Python object \n",
    "that contains all relevant components for training a model. \n",
    "While this is not yet a professional-grade implementation\n",
    "it is perfectly functional and code like this \n",
    "could already help you to solve small problems quickly.\n",
    "In the coming sections, we will see how to do this\n",
    "both *more concisely* (avoiding boilerplate code)\n",
    "and *more efficiently* (using our GPUs to their full potential).\n",
    "\n",
    "\n",
    "\n",
    "## Exercises\n",
    "\n",
    "1. What would happen if we were to initialize the weights to zero. Would the algorithm still work? What if we\n",
    "   initialized the parameters with variance $1000$ rather than $0.01$?\n",
    "1. Assume that you are [Georg Simon Ohm](https://en.wikipedia.org/wiki/Georg_Ohm) trying to come up\n",
    "   with a model for resistance that relates voltage and current. Can you use automatic\n",
    "   differentiation to learn the parameters of your model?\n",
    "1. Can you use [Planck's Law](https://en.wikipedia.org/wiki/Planck%27s_law) to determine the temperature of an object\n",
    "   using spectral energy density? For reference, the spectral density $B$ of radiation emanating from a black body is\n",
    "   $B(\\lambda, T) = \\frac{2 hc^2}{\\lambda^5} \\cdot \\left(\\exp \\frac{h c}{\\lambda k T} - 1\\right)^{-1}$. Here\n",
    "   $\\lambda$ is the wavelength, $T$ is the temperature, $c$ is the speed of light, $h$ is Planck's constant, and $k$ is the\n",
    "   Boltzmann constant. You measure the energy for different wavelengths $\\lambda$ and you now need to fit the spectral\n",
    "   density curve to Planck's law.\n",
    "1. What are the problems you might encounter if you wanted to compute the second derivatives of the loss? How would\n",
    "   you fix them?\n",
    "1. Why is the `reshape` method needed in the `loss` function?\n",
    "1. Experiment using different learning rates to find out how quickly the loss function value drops. Can you reduce the\n",
    "   error by increasing the number of epochs of training?\n",
    "1. If the number of examples cannot be divided by the batch size, what happens to `data_iter` at the end of an epoch?\n",
    "1. Try implementing a different loss function, such as the absolute value loss `(y_hat - d2l.reshape(y, y_hat.shape)).abs().sum()`.\n",
    "    1. Check what happens for regular data.\n",
    "    1. Check whether there is a difference in behavior if you actively perturb some entries, such as $y_5 = 10000$, of $\\mathbf{y}$.\n",
    "    1. Can you think of a cheap solution for combining the best aspects of squared loss and absolute value loss?\n",
    "       Hint: how can you avoid really large gradient values?\n",
    "1. Why do we need to reshuffle the dataset? Can you design a case where a maliciously constructed dataset would break the optimization algorithm otherwise?\n"
   ]
  },
  {
   "cell_type": "markdown",
   "id": "335ec424",
   "metadata": {
    "origin_pos": 39,
    "tab": [
     "jax"
    ]
   },
   "source": [
    "[Discussions](https://discuss.d2l.ai/t/17976)\n"
   ]
  }
 ],
 "metadata": {
  "kernelspec": {
   "display_name": "venv",
   "language": "python",
   "name": "python3"
  },
  "language_info": {
   "codemirror_mode": {
    "name": "ipython",
    "version": 3
   },
   "file_extension": ".py",
   "mimetype": "text/x-python",
   "name": "python",
   "nbconvert_exporter": "python",
   "pygments_lexer": "ipython3",
   "version": "3.11.6"
  },
  "required_libs": []
 },
 "nbformat": 4,
 "nbformat_minor": 5
}
